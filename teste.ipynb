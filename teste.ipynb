{
 "cells": [
  {
   "cell_type": "code",
   "execution_count": null,
   "metadata": {},
   "outputs": [],
   "source": [
    "# Uma garota possui uma vasta coleção de músicas em seu computador. Cada\n",
    "# música é definida a partir de um título, um artista e o ano de publicação. Para gerenciar\n",
    "# todas as suas músicas, é necessário que seja implementado um sistema que faça as\n",
    "# seguintes operações de desejo:\n",
    "\n",
    "# * Cadastrar uma música\n",
    "# * Buscar uma música pelo seu título\n",
    "# * Buscar todas as músicas que tenham o mesmo ano de publicação\n",
    "# * Apresentar uma playlist aleatória com todas as músicas cadastradas"
   ]
  },
  {
   "cell_type": "code",
   "execution_count": 6,
   "metadata": {},
   "outputs": [],
   "source": [
    "import csv\n",
    "import random\n",
    "import uuid\n",
    "import pandas as pd\n",
    "# cadastro de Música(Insert):\n",
    "\n",
    "#Vamos supor que é base csv com colunas:\n",
    "# ID Música (Random int)\n",
    "# Titulo (str)\n",
    "# Artista (str)\n",
    "# Ano Publicação (datetime)\n",
    "def id_unico():\n",
    "    \"\"\"\n",
    "    Gera um Id Unico\n",
    "    \"\"\"\n",
    "    df = pd.read_csv('base.csv')\n",
    "    id_existentes = list(df['ID_Musica'].unique())\n",
    "    while True:\n",
    "        id = uuid.uuid4()\n",
    "        if id not in id_existentes:\n",
    "            return id\n",
    "\n",
    "\n",
    "def insert_csv():\n",
    "    file_path = 'base.csv'\n",
    "    id_musica = id_unico()\n",
    "    Titulo = \n",
    "    Artista = \n",
    "    Ano_Publicacao = \n",
    "    \n",
    "    with open(file_path, mode='a', newline='', encoding='utf-8') as file:\n",
    "        writer =  csv.writer(file)\n",
    "        # writer.writerow([,,])\n",
    "    return"
   ]
  },
  {
   "cell_type": "code",
   "execution_count": null,
   "metadata": {},
   "outputs": [],
   "source": [
    "# Layout \n",
    "# 1 Cadastro Musica\n",
    "# 2 Buscar Musica pelo Titulo\n",
    "# 3 Buscar musica pelo ano Publicação\n",
    "# 4 Playlist Aleatoria\n",
    "\n",
    "print('Digite a funcionalidade que deseja utilizar:')\n",
    "print(\"\"\"\n",
    "    # 1 Cadastro Musica\n",
    "    # 2 Buscar Musica pelo Titulo\n",
    "    # 3 Buscar musica pelo ano Publicação\n",
    "    # 4 Playlist Aleatoria\n",
    "    \"\"\")\n",
    "input_element = input('')\n",
    "if input_element == '1':\n",
    "    print('Você escolheu cadastro')\n",
    "\n",
    "\n"
   ]
  },
  {
   "cell_type": "code",
   "execution_count": 1,
   "metadata": {},
   "outputs": [
    {
     "data": {
      "text/plain": [
       "Index(['ID_Musica', 'Titulo', 'Artista', 'Ano_Publicacao '], dtype='object')"
      ]
     },
     "execution_count": 1,
     "metadata": {},
     "output_type": "execute_result"
    }
   ],
   "source": [
    "import pandas as pd\n",
    "df = pd.read_csv('base.csv')\n",
    "df.columns"
   ]
  },
  {
   "cell_type": "code",
   "execution_count": null,
   "metadata": {},
   "outputs": [],
   "source": [
    "# Vamos supor que entrou dentro da classe 1.\n",
    "import re\n",
    "\n",
    "class Cadastro_Musica():\n",
    "\n",
    "    def __validacao_input_musica_cadastro(self,musica):\n",
    "        \"\"\"\n",
    "        Retorna True caso Musica ou Cadastro Válida\n",
    "        \"\"\"\n",
    "        padrao = re.compile(r'^[a-zA-Z0-9\\s]+$')\n",
    "        if padrao.match(musica):\n",
    "            return True\n",
    "        else:\n",
    "            return False\n",
    "\n",
    "    def cadastro_musica(self):\n",
    "        while True:      \n",
    "            musica = input('Insira o Nome da Musica:')\n",
    "            if self.__validacao_input_musica_cadastro(musica):\n",
    "                break\n",
    "            else:\n",
    "                \"Erro ao Inserir Musica, por favor apenas letras e numeros\"\n",
    "        return musica\n",
    "\n",
    "    \n",
    "    \n",
    "    def cadastro_titulo(self):\n",
    "        while True:\n",
    "            musica = input('Insira o Nome do Cadastro:')\n",
    "            if self.__validacao_input_musica_cadastro(cadastro):\n",
    "                break\n",
    "            else:\n",
    "                \"Erro ao Inserir Cadastro, por favor apenas letras e numeros\"\n",
    "\n",
    "\n",
    "\n",
    "cadastro = Cadastro_Musica()\n",
    "cadastro.cadastro_musica()"
   ]
  },
  {
   "cell_type": "code",
   "execution_count": null,
   "metadata": {},
   "outputs": [],
   "source": [
    "musica = 'DOIASduioa\"!'\n",
    "padrao = re.compile(r'^[a-zA-Z0-9\\s]+$')\n",
    "if not padrao.match(musica):\n",
    "    print('oi')"
   ]
  }
 ],
 "metadata": {
  "kernelspec": {
   "display_name": "Python 3",
   "language": "python",
   "name": "python3"
  },
  "language_info": {
   "codemirror_mode": {
    "name": "ipython",
    "version": 3
   },
   "file_extension": ".py",
   "mimetype": "text/x-python",
   "name": "python",
   "nbconvert_exporter": "python",
   "pygments_lexer": "ipython3",
   "version": "3.10.12"
  }
 },
 "nbformat": 4,
 "nbformat_minor": 2
}
